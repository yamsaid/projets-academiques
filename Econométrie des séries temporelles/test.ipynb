{
 "cells": [
  {
   "cell_type": "code",
   "execution_count": 1,
   "id": "aef03faa",
   "metadata": {},
   "outputs": [],
   "source": [
    "import pandas as pd\n",
    "import statsmodels.api as sm\n",
    "from statsmodels.tsa.stattools import adfuller\n"
   ]
  },
  {
   "cell_type": "markdown",
   "id": "eeb55ea1",
   "metadata": {},
   "source": [
    "## Importation des données"
   ]
  },
  {
   "cell_type": "code",
   "execution_count": 8,
   "id": "b72db861",
   "metadata": {},
   "outputs": [],
   "source": [
    "df = pd.read_csv('data.csv', sep=';')"
   ]
  },
  {
   "cell_type": "code",
   "execution_count": 9,
   "id": "fee6e30a",
   "metadata": {},
   "outputs": [],
   "source": [
    "# Conversion de la colonne 'date' en format datetime\n",
    "df['annee'] = pd.to_datetime(df['annee'], format='%Y')\n",
    "\n",
    "# Définir la date comme index\n",
    "df.set_index('annee', inplace=True)"
   ]
  },
  {
   "cell_type": "code",
   "execution_count": 11,
   "id": "8b4c15c2",
   "metadata": {},
   "outputs": [],
   "source": [
    "#df['annee'] = pd.to_datetime(df['annee'], format='%Y')\n",
    "\n",
    "df.to_csv('seriTemp.csv', sep=';', index=True)"
   ]
  },
  {
   "cell_type": "code",
   "execution_count": 9,
   "id": "cd4747ef",
   "metadata": {},
   "outputs": [
    {
     "data": {
      "text/plain": [
       "Index(['production', 'Superficie (1000 ha)', 'Precipitation (mm)',\n",
       "       'Subvention( million fcfa)', 'prix (fcfa)'],\n",
       "      dtype='object')"
      ]
     },
     "execution_count": 9,
     "metadata": {},
     "output_type": "execute_result"
    }
   ],
   "source": [
    "df.columns"
   ]
  },
  {
   "cell_type": "markdown",
   "id": "3fcf9f40",
   "metadata": {},
   "source": [
    "## *Nettoyage  des données*"
   ]
  },
  {
   "cell_type": "code",
   "execution_count": 12,
   "id": "17ff72fa",
   "metadata": {},
   "outputs": [
    {
     "name": "stdout",
     "output_type": "stream",
     "text": [
      "production                   float64\n",
      "Superficie (1000 ha)           int64\n",
      "Precipitation (mm)           float64\n",
      "Subvention( million fcfa)      int64\n",
      "prix (fcfa)                  float64\n",
      "dtype: object\n",
      "            production  Superficie (1000 ha)  Precipitation (mm)  \\\n",
      "annee                                                              \n",
      "2023-01-01   166558.86                   462              820.36   \n",
      "2022-01-01   168736.10                   618              939.28   \n",
      "2021-01-01   209015.04                   595              843.13   \n",
      "2020-01-01   206837.80                   556              952.49   \n",
      "2019-01-01   191597.12                   580              913.41   \n",
      "\n",
      "            Subvention( million fcfa)  prix (fcfa)  \n",
      "annee                                               \n",
      "2023-01-01                     100000       554.16  \n",
      "2022-01-01                      72800       492.90  \n",
      "2021-01-01                      12700       431.04  \n",
      "2020-01-01                      14000       445.02  \n",
      "2019-01-01                      13621       586.62  \n"
     ]
    }
   ],
   "source": [
    "# Nettoyage :\n",
    "def nettoyage(df):\n",
    "    for col in df.columns:\n",
    "        if df[col].dtype == 'object':\n",
    "            # Supprimer les espaces\n",
    "            df[col] = df[col].str.strip()\n",
    "            # Remplacer les virgules par des points\n",
    "            df[col] = df[col].str.replace(',', '.', regex=False)\n",
    "            df[col] = df[col].str.replace(' ', '', regex=False)\n",
    "            # Convertir en numérique\n",
    "            df[col] = pd.to_numeric(df[col], errors='coerce')\n",
    "\n",
    "    return df\n",
    "\n",
    "df = nettoyage(df)\n",
    "# Vérification finale\n",
    "print(df.dtypes)\n",
    "print(df.head())"
   ]
  },
  {
   "cell_type": "code",
   "execution_count": null,
   "id": "de33ad93",
   "metadata": {},
   "outputs": [],
   "source": []
  },
  {
   "cell_type": "code",
   "execution_count": null,
   "id": "68de7c75",
   "metadata": {},
   "outputs": [],
   "source": []
  },
  {
   "cell_type": "code",
   "execution_count": null,
   "id": "43060a68",
   "metadata": {},
   "outputs": [],
   "source": []
  },
  {
   "cell_type": "markdown",
   "id": "0b53166c",
   "metadata": {},
   "source": [
    "## Construction du modèle : production = subventions+prix+precipitaions+Superficie"
   ]
  },
  {
   "cell_type": "markdown",
   "id": "dc61d91f",
   "metadata": {},
   "source": [
    "*Les variables*"
   ]
  },
  {
   "cell_type": "code",
   "execution_count": 13,
   "id": "bb59c49b",
   "metadata": {},
   "outputs": [],
   "source": [
    "X = df[['Superficie (1000 ha)', 'Subvention( million fcfa)','prix (fcfa)','Precipitation (mm)']]  # variables explicatives\n",
    "X = sm.add_constant(X)  # ajoute une constante (β0)\n",
    "y = df['production']     # variable cible\n"
   ]
  },
  {
   "cell_type": "markdown",
   "id": "99f52263",
   "metadata": {},
   "source": [
    "### *le modele*"
   ]
  },
  {
   "cell_type": "code",
   "execution_count": 14,
   "id": "01758c9c",
   "metadata": {},
   "outputs": [],
   "source": [
    "model = sm.OLS(y, X).fit()\n"
   ]
  },
  {
   "cell_type": "code",
   "execution_count": null,
   "id": "8c662296",
   "metadata": {},
   "outputs": [],
   "source": [
    "model.summary()\n"
   ]
  },
  {
   "cell_type": "markdown",
   "id": "09f91824",
   "metadata": {},
   "source": [
    "## Test de Stationnarité"
   ]
  },
  {
   "cell_type": "code",
   "execution_count": 19,
   "id": "bc10da4f",
   "metadata": {},
   "outputs": [],
   "source": [
    "\n",
    "# Exemple sur une série nommée \"production\"\n",
    "result = adfuller(df['production'])"
   ]
  },
  {
   "cell_type": "code",
   "execution_count": 20,
   "id": "1f53935b",
   "metadata": {},
   "outputs": [
    {
     "data": {
      "text/plain": [
       "(np.float64(-0.49052402622876373),\n",
       " np.float64(0.8938524417828728),\n",
       " 10,\n",
       " 40,\n",
       " {'1%': np.float64(-3.6055648906249997),\n",
       "  '5%': np.float64(-2.937069375),\n",
       "  '10%': np.float64(-2.606985625)},\n",
       " np.float64(912.6093656765423))"
      ]
     },
     "execution_count": 20,
     "metadata": {},
     "output_type": "execute_result"
    }
   ],
   "source": [
    "result"
   ]
  },
  {
   "cell_type": "code",
   "execution_count": 23,
   "id": "a3af6bb7",
   "metadata": {},
   "outputs": [],
   "source": [
    "def test_stationarite(serie):\n",
    "    print(\"=== Test ADF ===\")\n",
    "    result_adf = adfuller(serie.dropna())\n",
    "    \n",
    "    #print(result_adf)\n",
    "    print(f\"ADF Statistic: {result_adf[0]}, p-value: {result_adf[1]}\")"
   ]
  },
  {
   "cell_type": "code",
   "execution_count": 24,
   "id": "2e230134",
   "metadata": {},
   "outputs": [
    {
     "name": "stdout",
     "output_type": "stream",
     "text": [
      "=== Test ADF ===\n",
      "ADF Statistic: -0.49052402622876373, p-value: 0.8938524417828728\n"
     ]
    }
   ],
   "source": [
    "test_stationarite(df['production'])"
   ]
  },
  {
   "cell_type": "code",
   "execution_count": 15,
   "id": "ea63e00d",
   "metadata": {},
   "outputs": [
    {
     "name": "stdout",
     "output_type": "stream",
     "text": [
      "p-value de co-intégration : 0.9918748746835239\n"
     ]
    }
   ],
   "source": [
    "from statsmodels.tsa.stattools import coint\n",
    "\n",
    "# Exemple : production et prix\n",
    "score, pvalue, _ = coint(df['production'], df[['Superficie (1000 ha)', 'Subvention( million fcfa)','prix (fcfa)','Precipitation (mm)']] )\n",
    "print('p-value de co-intégration :', pvalue)\n"
   ]
  },
  {
   "cell_type": "code",
   "execution_count": 16,
   "id": "4f61ba80",
   "metadata": {},
   "outputs": [],
   "source": [
    "from statsmodels.tsa.vector_ar.vecm import coint_johansen\n"
   ]
  },
  {
   "cell_type": "code",
   "execution_count": 17,
   "id": "f455b5d9",
   "metadata": {},
   "outputs": [],
   "source": [
    "# paramètre det_order = -1 (automatique), k_ar_diff = nombre de retards\n",
    "johansen_test = coint_johansen(df, det_order=0, k_ar_diff=1)\n"
   ]
  },
  {
   "cell_type": "code",
   "execution_count": 18,
   "id": "51e0a04d",
   "metadata": {},
   "outputs": [
    {
     "name": "stdout",
     "output_type": "stream",
     "text": [
      "Hypothèse r <= 0 : Stat = 126.78, Critères : [65.8202 69.8189 77.8202]\n",
      "Hypothèse r <= 1 : Stat = 49.28, Critères : [44.4929 47.8545 54.6815]\n",
      "Hypothèse r <= 2 : Stat = 28.69, Critères : [27.0669 29.7961 35.4628]\n",
      "Hypothèse r <= 3 : Stat = 11.79, Critères : [13.4294 15.4943 19.9349]\n",
      "Hypothèse r <= 4 : Stat = 1.30, Critères : [2.7055 3.8415 6.6349]\n"
     ]
    }
   ],
   "source": [
    "trace_stat = johansen_test.lr1      # Statistiques du test Trace\n",
    "crit_values = johansen_test.cvt     # Valeurs critiques à 90%, 95%, 99%\n",
    "\n",
    "for i in range(len(trace_stat)):\n",
    "    print(f\"Hypothèse r <= {i} : Stat = {trace_stat[i]:.2f}, Critères : {crit_values[i]}\")\n"
   ]
  },
  {
   "cell_type": "code",
   "execution_count": null,
   "id": "b0cfdabe",
   "metadata": {},
   "outputs": [],
   "source": []
  }
 ],
 "metadata": {
  "kernelspec": {
   "display_name": "Python 3",
   "language": "python",
   "name": "python3"
  },
  "language_info": {
   "codemirror_mode": {
    "name": "ipython",
    "version": 3
   },
   "file_extension": ".py",
   "mimetype": "text/x-python",
   "name": "python",
   "nbconvert_exporter": "python",
   "pygments_lexer": "ipython3",
   "version": "3.12.5"
  }
 },
 "nbformat": 4,
 "nbformat_minor": 5
}
